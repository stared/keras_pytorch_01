{
 "cells": [
  {
   "cell_type": "markdown",
   "metadata": {},
   "source": [
    "### Data preparation"
   ]
  },
  {
   "cell_type": "markdown",
   "metadata": {},
   "source": [
    "This code creates a directory holding an organised subsample of the original dataset."
   ]
  },
  {
   "cell_type": "code",
   "execution_count": 36,
   "metadata": {},
   "outputs": [],
   "source": [
    "import os, shutil"
   ]
  },
  {
   "cell_type": "code",
   "execution_count": 37,
   "metadata": {},
   "outputs": [],
   "source": [
    "# Path to the full data directory, not categorised into train/val/test sets or category folders\n",
    "original_dataset_dir = '/mnt/ml-team/homes/rafal.jakubanis/blogpost2-resnet50/data'\n",
    "\n",
    "# The directory where we will store our smaller dataset, divided into train/val/test directories, and further into category directories \n",
    "base_dir = '/mnt/ml-team/homes/rafal.jakubanis/blogpost2-resnet50/data_small'"
   ]
  },
  {
   "cell_type": "code",
   "execution_count": 38,
   "metadata": {},
   "outputs": [
    {
     "name": "stdout",
     "output_type": "stream",
     "text": [
      "Total number of images: 25000\n"
     ]
    }
   ],
   "source": [
    "print('Total number of images:', len(os.listdir(original_dataset_dir)))"
   ]
  },
  {
   "cell_type": "code",
   "execution_count": 39,
   "metadata": {},
   "outputs": [],
   "source": [
    "# We want to keep our data organized into train, test, validation folders, each with separate category subfolders\n",
    "categories = ['cats', 'dogs']\n",
    "str_train_val_test = ['train', 'validation', 'test']\n",
    "\n",
    "if not os.path.exists(base_dir):\n",
    "    os.mkdir(base_dir)\n",
    "    print('Created directory: ', base_dir)\n",
    "\n",
    "for dir_type in str_train_val_test:\n",
    "    train_test_val_dir = os.path.join(base_dir, dir_type)\n",
    "\n",
    "    if not os.path.exists(train_test_val_dir):\n",
    "        os.mkdir(train_test_val_dir)\n",
    "\n",
    "    for category in categories:\n",
    "        dir_type_category = os.path.join(train_test_val_dir, category)\n",
    "\n",
    "        if not os.path.exists(dir_type_category):\n",
    "            os.mkdir(dir_type_category)\n",
    "            print('Created directory: ', dir_type_category)"
   ]
  },
  {
   "cell_type": "code",
   "execution_count": 40,
   "metadata": {},
   "outputs": [],
   "source": [
    "directories_dict = {}  # To store directory paths for data subsets.\n",
    "\n",
    "for range_, dir_type in zip(\n",
    "    [range(1000), range(1000, 1500),\n",
    "     range(1500, 2000)], str_train_val_test):\n",
    "    for _, category in enumerate(categories):\n",
    "        fnames = [category[:-1] + \".\" + str(i) + \".\" + \"jpg\" for i in range_]\n",
    "\n",
    "        if _ == 0:\n",
    "            directories_dict[str(dir_type) + \"_dir\"] = os.path.join(\n",
    "                base_dir,\n",
    "                dir_type,\n",
    "            )\n",
    "        for _, fname in enumerate(fnames):\n",
    "\n",
    "            if _ == 0:\n",
    "                directories_dict[str(dir_type) + \"_\" + str(category) +\n",
    "                                 \"_dir\"] = os.path.join(\n",
    "                                     base_dir, dir_type, category)\n",
    "\n",
    "            destination = os.path.join(base_dir, dir_type, category, fname)\n",
    "\n",
    "            if not os.path.isfile(destination):\n",
    "                source = os.path.join(original_dataset_dir, fname)\n",
    "                shutil.copyfile(source, destination)"
   ]
  },
  {
   "cell_type": "code",
   "execution_count": 41,
   "metadata": {},
   "outputs": [
    {
     "data": {
      "text/plain": [
       "{'test_cats_dir': '/mnt/ml-team/homes/rafal.jakubanis/blogpost2-resnet50/data_small/test/cats',\n",
       " 'test_dir': '/mnt/ml-team/homes/rafal.jakubanis/blogpost2-resnet50/data_small/test',\n",
       " 'test_dogs_dir': '/mnt/ml-team/homes/rafal.jakubanis/blogpost2-resnet50/data_small/test/dogs',\n",
       " 'train_cats_dir': '/mnt/ml-team/homes/rafal.jakubanis/blogpost2-resnet50/data_small/train/cats',\n",
       " 'train_dir': '/mnt/ml-team/homes/rafal.jakubanis/blogpost2-resnet50/data_small/train',\n",
       " 'train_dogs_dir': '/mnt/ml-team/homes/rafal.jakubanis/blogpost2-resnet50/data_small/train/dogs',\n",
       " 'validation_cats_dir': '/mnt/ml-team/homes/rafal.jakubanis/blogpost2-resnet50/data_small/validation/cats',\n",
       " 'validation_dir': '/mnt/ml-team/homes/rafal.jakubanis/blogpost2-resnet50/data_small/validation',\n",
       " 'validation_dogs_dir': '/mnt/ml-team/homes/rafal.jakubanis/blogpost2-resnet50/data_small/validation/dogs'}"
      ]
     },
     "execution_count": 41,
     "metadata": {},
     "output_type": "execute_result"
    }
   ],
   "source": [
    "directories_dict"
   ]
  },
  {
   "cell_type": "code",
   "execution_count": 42,
   "metadata": {
    "scrolled": true
   },
   "outputs": [
    {
     "name": "stdout",
     "output_type": "stream",
     "text": [
      "Total training cat images: 1000\n",
      "Total training dog images: 1000\n",
      "--------------------------------\n",
      "Total test cat images: 500\n",
      "Total test dog images: 500\n",
      "--------------------------------\n",
      "Total validation cat images: 500\n",
      "Total validation dog images: 500\n"
     ]
    }
   ],
   "source": [
    "print('Total training cat images:', len(os.listdir(directories_dict['train_cats_dir'])))\n",
    "print('Total training dog images:', len(os.listdir(directories_dict['train_cats_dir'])))\n",
    "print(\"-\"*32)\n",
    "print('Total test cat images:', len(os.listdir(directories_dict['test_cats_dir'])))\n",
    "print('Total test dog images:', len(os.listdir(directories_dict['test_dogs_dir'])))\n",
    "print(\"-\"*32)\n",
    "print('Total validation cat images:', len(os.listdir(directories_dict['validation_cats_dir'])))\n",
    "print('Total validation dog images:', len(os.listdir(directories_dict['validation_dogs_dir'])))\n"
   ]
  }
 ],
 "metadata": {
  "kernelspec": {
   "display_name": "Python 3",
   "language": "python",
   "name": "python3"
  },
  "language_info": {
   "codemirror_mode": {
    "name": "ipython",
    "version": 3
   },
   "file_extension": ".py",
   "mimetype": "text/x-python",
   "name": "python",
   "nbconvert_exporter": "python",
   "pygments_lexer": "ipython3",
   "version": "3.5.2"
  },
  "toc": {
   "base_numbering": 1,
   "nav_menu": {},
   "number_sections": true,
   "sideBar": true,
   "skip_h1_title": false,
   "title_cell": "Table of Contents",
   "title_sidebar": "Contents",
   "toc_cell": false,
   "toc_position": {},
   "toc_section_display": true,
   "toc_window_display": false
  },
  "varInspector": {
   "cols": {
    "lenName": 16,
    "lenType": 16,
    "lenVar": 40
   },
   "kernels_config": {
    "python": {
     "delete_cmd_postfix": "",
     "delete_cmd_prefix": "del ",
     "library": "var_list.py",
     "varRefreshCmd": "print(var_dic_list())"
    },
    "r": {
     "delete_cmd_postfix": ") ",
     "delete_cmd_prefix": "rm(",
     "library": "var_list.r",
     "varRefreshCmd": "cat(var_dic_list()) "
    }
   },
   "types_to_exclude": [
    "module",
    "function",
    "builtin_function_or_method",
    "instance",
    "_Feature"
   ],
   "window_display": false
  }
 },
 "nbformat": 4,
 "nbformat_minor": 2
}
